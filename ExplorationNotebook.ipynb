{
 "cells": [
  {
   "cell_type": "code",
   "execution_count": 5,
   "metadata": {
    "collapsed": true,
    "pycharm": {
     "is_executing": false
    }
   },
   "outputs": [],
   "source": [
    "import os\n",
    "import numpy as np\n",
    "import pandas as pd\n",
    "import matplotlib.pyplot as plt \n",
    "\n",
    "# IGNORING THE DIFFERENT NUCLIE NUMBER IN CLUSTERS ABOVE 4\n",
    "\n",
    "\n",
    "original_file =  open(\"Data/200714_Fusion_Index.csv\", 'r')\n",
    "first_line = original_file.readline().split(',')\n",
    "exp1_prefix = first_line[2].split(' ')[0]\n",
    "exp2_prefix = first_line[4].split(' ')[0]\n",
    "exp3_prefix = first_line[6].split(' ')[0]\n",
    "exp4_prefix = first_line[8].split(' ')[0]\n",
    "exp5_prefix = first_line[10].split(' ')[0]\n",
    "exp6_prefix = first_line[12].split(' ')[0]\n",
    "experiments_prefixes = [exp1_prefix, exp2_prefix, exp3_prefix, exp4_prefix, exp5_prefix, exp6_prefix]\n",
    "headers = ['Frame#', \n",
    "           'CTRn=1',\n",
    "           'CTRn=2',\n",
    "           'CTRn=3',\n",
    "           'CTRn=4',\n",
    "           'CTR1total',\n",
    "           'CTR2total',\n",
    "           'CTR3total',\n",
    "           'CTR4total']\n",
    "all_data_frames = dict([(exp_prefix, pd.DataFrame(columns=headers)) for exp_prefix in experiments_prefixes])\n",
    "# get data\n",
    "for data_line in original_file:\n",
    "    data_line = data_line.split(',')\n",
    "    frame_num = 0 if data_line[0] is '' or data_line[0] is '\\n' else int(data_line[0].split('.')[0])\n",
    "    n_is = data_line[1].split('=')[1][:1]\n",
    "    exp1_n_of_combined_cells = 0 if data_line[2]=='' or data_line[2]=='\\n' else int(data_line[2].split('(')[0]) if data_line[1].find('n>=4')==0 else int(data_line[2])\n",
    "    exp1_total_n_of_nuclei_in_combined = 0 if data_line[3]=='' or data_line[3]=='\\n' else int(data_line[3]) if data_line[1].find('n>=4')==0 else int(data_line[3])\n",
    "    exp2_n_of_combined_cells = 0 if data_line[4]=='' or data_line[4]=='\\n' else int(data_line[4].split('(')[0]) if data_line[1].find('n>=4')==0 else int(data_line[4])\n",
    "    exp2_total_n_of_nuclei_in_combined = 0 if data_line[5]=='' or data_line[5]=='\\n' else int(data_line[5]) if data_line[1].find('n>=4')==0 else int(data_line[5])\n",
    "    exp3_n_of_combined_cells = 0 if data_line[6]=='' or data_line[6]=='\\n' else int(data_line[6].split('(')[0])  if data_line[1].find('n>=4')==0 else int(data_line[6])\n",
    "    exp3_total_n_of_nuclei_in_combined = 0 if data_line[7]=='' or data_line[7]=='\\n' else int(data_line[7]) if data_line[1].find('n>=4')==0 else int(data_line[7])\n",
    "    exp4_n_of_combined_cells = 0 if data_line[8]=='' or data_line[8]=='\\n' else int(data_line[8].split('(')[0]) if data_line[1].find('n>=4')==0 else int(data_line[8])\n",
    "    exp4_total_n_of_nuclei_in_combined = 0 if data_line[9]=='' or data_line[9]=='\\n' else int(data_line[9]) if data_line[1].find('n>=4')==0 else int(data_line[9])\n",
    "    exp5_n_of_combined_cells = 0 if data_line[10]=='' or data_line[10]=='\\n' else int(data_line[10].split('(')[0]) if data_line[1].find('n>=4')==0 else int(data_line[10])\n",
    "    exp5_total_n_of_nuclei_in_combined = 0 if data_line[11]=='' or data_line[11]=='\\n' else int(data_line[11]) if data_line[1].find('n>=4')==0 else int(data_line[11])\n",
    "    exp6_n_of_combined_cells = 0 if data_line[12]=='' or data_line[12]=='\\n' else int(data_line[12].split('(')[0]) if data_line[1].find('n>=4')==0 else int(data_line[12])\n",
    "    exp6_total_n_of_nuclei_in_combined = 0 if data_line[13]=='' or data_line[13]=='\\n' else int(data_line[13]) if data_line[1].find('n>=4')==0 else int(data_line[13])\n",
    "    if frame_num != 0:\n",
    "        #no frame number\n",
    "        all_data_frames[exp1_prefix].loc[len(all_data_frames[exp1_prefix]), 'Frame#'] = frame_num\n",
    "        all_data_frames[exp2_prefix].loc[len(all_data_frames[exp2_prefix]), 'Frame#'] = frame_num\n",
    "        all_data_frames[exp3_prefix].loc[len(all_data_frames[exp3_prefix]), 'Frame#'] = frame_num\n",
    "        all_data_frames[exp4_prefix].loc[len(all_data_frames[exp4_prefix]), 'Frame#'] = frame_num\n",
    "        all_data_frames[exp5_prefix].loc[len(all_data_frames[exp5_prefix]), 'Frame#'] = frame_num\n",
    "        all_data_frames[exp6_prefix].loc[len(all_data_frames[exp6_prefix]), 'Frame#'] = frame_num\n",
    "    if n_is == 4:\n",
    "        # change the >=4 data to include only the number of multinuclietudes\n",
    "        exp1_n_of_combined_cells = int(exp1_n_of_combined_cells.split('(')[0]) \n",
    "        exp2_n_of_combined_cells = int(exp2_n_of_combined_cells.split('(')[0]) \n",
    "        exp3_n_of_combined_cells = int(exp3_n_of_combined_cells.split('(')[0]) \n",
    "        exp4_n_of_combined_cells = int(exp4_n_of_combined_cells.split('(')[0]) \n",
    "        exp5_n_of_combined_cells = int(exp5_n_of_combined_cells.split('(')[0]) \n",
    "        exp6_n_of_combined_cells = int(exp6_n_of_combined_cells.split('(')[0]) \n",
    "    all_data_frames[exp1_prefix].loc[len(all_data_frames[exp1_prefix])-1, 'CTRn={}'.format(n_is)] = exp1_n_of_combined_cells\n",
    "    all_data_frames[exp1_prefix].loc[len(all_data_frames[exp1_prefix])-1, 'CTR{}total'.format(n_is)] = exp1_total_n_of_nuclei_in_combined\n",
    "    all_data_frames[exp2_prefix].loc[len(all_data_frames[exp2_prefix])-1, 'CTRn={}'.format(n_is)] = exp2_n_of_combined_cells\n",
    "    all_data_frames[exp2_prefix].loc[len(all_data_frames[exp2_prefix])-1, 'CTR{}total'.format(n_is)] = exp2_total_n_of_nuclei_in_combined\n",
    "    all_data_frames[exp3_prefix].loc[len(all_data_frames[exp3_prefix])-1, 'CTRn={}'.format(n_is)] = exp3_n_of_combined_cells\n",
    "    all_data_frames[exp3_prefix].loc[len(all_data_frames[exp3_prefix])-1, 'CTR{}total'.format(n_is)] = exp3_total_n_of_nuclei_in_combined\n",
    "    all_data_frames[exp4_prefix].loc[len(all_data_frames[exp4_prefix])-1, 'CTRn={}'.format(n_is)] = exp4_n_of_combined_cells\n",
    "    all_data_frames[exp4_prefix].loc[len(all_data_frames[exp4_prefix])-1, 'CTR{}total'.format(n_is)] = exp4_total_n_of_nuclei_in_combined\n",
    "    all_data_frames[exp5_prefix].loc[len(all_data_frames[exp5_prefix])-1, 'CTRn={}'.format(n_is)] = exp5_n_of_combined_cells\n",
    "    all_data_frames[exp5_prefix].loc[len(all_data_frames[exp5_prefix])-1, 'CTR{}total'.format(n_is)] = exp5_total_n_of_nuclei_in_combined\n",
    "    all_data_frames[exp6_prefix].loc[len(all_data_frames[exp6_prefix])-1, 'CTRn={}'.format(n_is)] = exp6_n_of_combined_cells\n",
    "    all_data_frames[exp6_prefix].loc[len(all_data_frames[exp6_prefix])-1, 'CTR{}total'.format(n_is)] = exp6_total_n_of_nuclei_in_combined\n",
    "    \n",
    "   "
   ]
  },
  {
   "cell_type": "code",
   "execution_count": 7,
   "outputs": [],
   "source": [
    "for exp_name, exp_df in all_data_frames.items():\n",
    "    exp_df.to_csv('Data/{0}_processed.csv'.format(exp_name))"
   ],
   "metadata": {
    "collapsed": false,
    "pycharm": {
     "name": "#%%\n",
     "is_executing": false
    }
   }
  }
 ],
 "metadata": {
  "kernelspec": {
   "display_name": "Python 3",
   "language": "python",
   "name": "python3"
  },
  "language_info": {
   "codemirror_mode": {
    "name": "ipython",
    "version": 2
   },
   "file_extension": ".py",
   "mimetype": "text/x-python",
   "name": "python",
   "nbconvert_exporter": "python",
   "pygments_lexer": "ipython2",
   "version": "2.7.6"
  },
  "pycharm": {
   "stem_cell": {
    "cell_type": "raw",
    "source": [],
    "metadata": {
     "collapsed": false
    }
   }
  }
 },
 "nbformat": 4,
 "nbformat_minor": 0
}